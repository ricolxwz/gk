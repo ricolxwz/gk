{
 "cells": [
  {
   "cell_type": "code",
   "execution_count": 1,
   "metadata": {},
   "outputs": [],
   "source": [
    "# Import packages\n",
    "import numpy as np\n",
    "import pandas as pd\n",
    "from simpleinfotheory import entropy, entropyempirical, mutualinformationempirical, infocontent, conditionalmutualinformationempirical"
   ]
  },
  {
   "cell_type": "code",
   "execution_count": 2,
   "metadata": {},
   "outputs": [
    {
     "data": {
      "text/html": [
       "<div>\n",
       "<style scoped>\n",
       "    .dataframe tbody tr th:only-of-type {\n",
       "        vertical-align: middle;\n",
       "    }\n",
       "\n",
       "    .dataframe tbody tr th {\n",
       "        vertical-align: top;\n",
       "    }\n",
       "\n",
       "    .dataframe thead th {\n",
       "        text-align: right;\n",
       "    }\n",
       "</style>\n",
       "<table border=\"1\" class=\"dataframe\">\n",
       "  <thead>\n",
       "    <tr style=\"text-align: right;\">\n",
       "      <th></th>\n",
       "      <th>V1</th>\n",
       "      <th>V2</th>\n",
       "      <th>V3</th>\n",
       "      <th>V4</th>\n",
       "      <th>V5</th>\n",
       "      <th>V6</th>\n",
       "      <th>V7</th>\n",
       "      <th>V8</th>\n",
       "      <th>V9</th>\n",
       "      <th>V10</th>\n",
       "    </tr>\n",
       "  </thead>\n",
       "  <tbody>\n",
       "    <tr>\n",
       "      <th>0</th>\n",
       "      <td>5</td>\n",
       "      <td>2</td>\n",
       "      <td>3</td>\n",
       "      <td>5</td>\n",
       "      <td>1</td>\n",
       "      <td>5</td>\n",
       "      <td>5</td>\n",
       "      <td>0</td>\n",
       "      <td>3</td>\n",
       "      <td>6</td>\n",
       "    </tr>\n",
       "    <tr>\n",
       "      <th>1</th>\n",
       "      <td>2</td>\n",
       "      <td>4</td>\n",
       "      <td>3</td>\n",
       "      <td>5</td>\n",
       "      <td>3</td>\n",
       "      <td>2</td>\n",
       "      <td>4</td>\n",
       "      <td>2</td>\n",
       "      <td>5</td>\n",
       "      <td>4</td>\n",
       "    </tr>\n",
       "    <tr>\n",
       "      <th>2</th>\n",
       "      <td>2</td>\n",
       "      <td>3</td>\n",
       "      <td>1</td>\n",
       "      <td>2</td>\n",
       "      <td>2</td>\n",
       "      <td>4</td>\n",
       "      <td>3</td>\n",
       "      <td>2</td>\n",
       "      <td>5</td>\n",
       "      <td>5</td>\n",
       "    </tr>\n",
       "    <tr>\n",
       "      <th>3</th>\n",
       "      <td>2</td>\n",
       "      <td>4</td>\n",
       "      <td>3</td>\n",
       "      <td>2</td>\n",
       "      <td>2</td>\n",
       "      <td>3</td>\n",
       "      <td>6</td>\n",
       "      <td>0</td>\n",
       "      <td>3</td>\n",
       "      <td>5</td>\n",
       "    </tr>\n",
       "    <tr>\n",
       "      <th>4</th>\n",
       "      <td>2</td>\n",
       "      <td>5</td>\n",
       "      <td>1</td>\n",
       "      <td>2</td>\n",
       "      <td>3</td>\n",
       "      <td>2</td>\n",
       "      <td>3</td>\n",
       "      <td>2</td>\n",
       "      <td>5</td>\n",
       "      <td>4</td>\n",
       "    </tr>\n",
       "    <tr>\n",
       "      <th>...</th>\n",
       "      <td>...</td>\n",
       "      <td>...</td>\n",
       "      <td>...</td>\n",
       "      <td>...</td>\n",
       "      <td>...</td>\n",
       "      <td>...</td>\n",
       "      <td>...</td>\n",
       "      <td>...</td>\n",
       "      <td>...</td>\n",
       "      <td>...</td>\n",
       "    </tr>\n",
       "    <tr>\n",
       "      <th>996</th>\n",
       "      <td>5</td>\n",
       "      <td>7</td>\n",
       "      <td>1</td>\n",
       "      <td>5</td>\n",
       "      <td>5</td>\n",
       "      <td>5</td>\n",
       "      <td>1</td>\n",
       "      <td>2</td>\n",
       "      <td>2</td>\n",
       "      <td>7</td>\n",
       "    </tr>\n",
       "    <tr>\n",
       "      <th>997</th>\n",
       "      <td>5</td>\n",
       "      <td>5</td>\n",
       "      <td>1</td>\n",
       "      <td>5</td>\n",
       "      <td>4</td>\n",
       "      <td>5</td>\n",
       "      <td>3</td>\n",
       "      <td>0</td>\n",
       "      <td>0</td>\n",
       "      <td>7</td>\n",
       "    </tr>\n",
       "    <tr>\n",
       "      <th>998</th>\n",
       "      <td>5</td>\n",
       "      <td>3</td>\n",
       "      <td>3</td>\n",
       "      <td>5</td>\n",
       "      <td>2</td>\n",
       "      <td>2</td>\n",
       "      <td>1</td>\n",
       "      <td>0</td>\n",
       "      <td>0</td>\n",
       "      <td>4</td>\n",
       "    </tr>\n",
       "    <tr>\n",
       "      <th>999</th>\n",
       "      <td>5</td>\n",
       "      <td>7</td>\n",
       "      <td>1</td>\n",
       "      <td>5</td>\n",
       "      <td>5</td>\n",
       "      <td>5</td>\n",
       "      <td>6</td>\n",
       "      <td>2</td>\n",
       "      <td>2</td>\n",
       "      <td>6</td>\n",
       "    </tr>\n",
       "    <tr>\n",
       "      <th>1000</th>\n",
       "      <td>5</td>\n",
       "      <td>4</td>\n",
       "      <td>1</td>\n",
       "      <td>5</td>\n",
       "      <td>3</td>\n",
       "      <td>1</td>\n",
       "      <td>2</td>\n",
       "      <td>0</td>\n",
       "      <td>0</td>\n",
       "      <td>2</td>\n",
       "    </tr>\n",
       "  </tbody>\n",
       "</table>\n",
       "<p>1001 rows × 10 columns</p>\n",
       "</div>"
      ],
      "text/plain": [
       "      V1  V2  V3  V4  V5  V6  V7  V8  V9  V10\n",
       "0      5   2   3   5   1   5   5   0   3    6\n",
       "1      2   4   3   5   3   2   4   2   5    4\n",
       "2      2   3   1   2   2   4   3   2   5    5\n",
       "3      2   4   3   2   2   3   6   0   3    5\n",
       "4      2   5   1   2   3   2   3   2   5    4\n",
       "...   ..  ..  ..  ..  ..  ..  ..  ..  ..  ...\n",
       "996    5   7   1   5   5   5   1   2   2    7\n",
       "997    5   5   1   5   4   5   3   0   0    7\n",
       "998    5   3   3   5   2   2   1   0   0    4\n",
       "999    5   7   1   5   5   5   6   2   2    6\n",
       "1000   5   4   1   5   3   1   2   0   0    2\n",
       "\n",
       "[1001 rows x 10 columns]"
      ]
     },
     "execution_count": 2,
     "metadata": {},
     "output_type": "execute_result"
    }
   ],
   "source": [
    "# Import data\n",
    "data = pd.read_csv('data/data.txt', sep=r'\\s+', header=None, names=[f'V{i}' for i in range(1, 11)])\n",
    "data"
   ]
  },
  {
   "cell_type": "code",
   "execution_count": 3,
   "metadata": {},
   "outputs": [
    {
     "name": "stdout",
     "output_type": "stream",
     "text": [
      "2.313837615081067\n",
      "2.518484195329019\n",
      "1.5845442969764774\n",
      "2.3104663798288527\n",
      "2.3209607039061257\n",
      "2.3140452060934926\n",
      "2.7993480717361705\n",
      "1.5845442969764774\n",
      "2.578212646650187\n",
      "2.4889485627981576\n"
     ]
    },
    {
     "data": {
      "text/plain": [
       "('V7', np.float64(2.7993480717361705))"
      ]
     },
     "execution_count": 3,
     "metadata": {},
     "output_type": "execute_result"
    }
   ],
   "source": [
    "# 6.a\n",
    "current_max_entropy = 0\n",
    "current_max_entropy_player = 'V1'\n",
    "for ch in [f'V{i}' for i in range(1, 11)]:\n",
    "    (result, symbols, probabilities) = entropyempirical(data[ch].to_numpy())\n",
    "    print(result)\n",
    "    if result > current_max_entropy:\n",
    "        current_max_entropy = result\n",
    "        current_max_entropy_player = ch\n",
    "current_max_entropy_player, current_max_entropy"
   ]
  },
  {
   "cell_type": "code",
   "execution_count": 4,
   "metadata": {},
   "outputs": [
    {
     "name": "stdout",
     "output_type": "stream",
     "text": [
      "0.012754737842673336\n",
      "0.010295128738048831\n",
      "0.0027889745945293143\n",
      "0.0077846775201164675\n",
      "0.0058186472615426865\n",
      "0.023847932765335145\n",
      "0.00400041241963045\n",
      "0.012863990073530118\n",
      "1.4899714750203668\n"
     ]
    },
    {
     "data": {
      "text/plain": [
       "('V10', np.float64(1.4899714750203668))"
      ]
     },
     "execution_count": 4,
     "metadata": {},
     "output_type": "execute_result"
    }
   ],
   "source": [
    "# 6.b\n",
    "data_v6 = data['V6']\n",
    "current_max_mi = 0\n",
    "current_max_mi_player = 'V1'\n",
    "for ch in [f'V{i}' for i in range(1, 11) if i != 6]:\n",
    "# for ch in [f'V{i}' for i in range(1, 11)]:\n",
    "    result = mutualinformationempirical(data_v6.to_numpy(), data[ch].to_numpy())\n",
    "    print(result)\n",
    "    if result > current_max_mi:\n",
    "        current_max_mi = result\n",
    "        current_max_mi_player = ch\n",
    "current_max_mi_player, current_max_mi\n"
   ]
  },
  {
   "cell_type": "code",
   "execution_count": 13,
   "metadata": {},
   "outputs": [
    {
     "name": "stdout",
     "output_type": "stream",
     "text": [
      "0.02137734154644111\n"
     ]
    }
   ],
   "source": [
    "# 6.c\n",
    "# First calculate the entropy of V2 and V9\n",
    "data_v2 = data['V2']\n",
    "data_v9 = data['V9']\n",
    "data_v2_np = data_v2.to_numpy()\n",
    "data_v9_np = data_v9.to_numpy()\n",
    "symbols_v2 = np.unique(data_v2_np)\n",
    "symbols_v9 = np.unique(data_v9_np)\n",
    "total_num = data.shape[0]\n",
    "counts_v2 = []\n",
    "counts_v9 = []\n",
    "for symbol in symbols_v2:\n",
    "    count = 0\n",
    "    for row in data_v2_np:\n",
    "        if row == symbol:\n",
    "            count += 1\n",
    "    counts_v2.append(count)\n",
    "counts_v2 = np.array(counts_v2)\n",
    "probabilities_v2 = counts_v2 / total_num\n",
    "for symbol in symbols_v9:\n",
    "    count = 0\n",
    "    for row in data_v9_np:\n",
    "        if row == symbol:\n",
    "            count += 1\n",
    "    counts_v9.append(count)\n",
    "counts_v9 = np.array(counts_v9)\n",
    "probabilities_v9 = counts_v9 / total_num\n",
    "H2 = entropy(probabilities_v2)\n",
    "H9 = entropy(probabilities_v9)\n",
    "# Then calculate the joint entropy of V2&V9\n",
    "data_v2_np_cv = np.reshape(data_v2_np, (total_num, 1))\n",
    "data_v9_np_cv = np.reshape(data_v9_np, (total_num, 1))\n",
    "data_v29_np = np.concatenate((data_v2_np_cv, data_v9_np_cv), axis=1)\n",
    "symbols, symbol_index = np.unique(data_v29_np, axis=0, return_inverse=True)\n",
    "symbol_index_symbol = np.unique(symbol_index)\n",
    "counts_v29 = []\n",
    "for symbol in symbol_index_symbol:\n",
    "    count = 0\n",
    "    for row in symbol_index:\n",
    "        if row == symbol:\n",
    "            count += 1\n",
    "    counts_v29.append(count)\n",
    "counts_v29 = np.array(counts_v29)\n",
    "probabilities_v29 = counts_v29 / total_num\n",
    "H29 = entropy(probabilities_v29)\n",
    "result = H2 + H9 - H29\n",
    "print(result)\n",
    "assert (result==mutualinformationempirical(data_v2_np, data_v9_np))"
   ]
  },
  {
   "cell_type": "code",
   "execution_count": 14,
   "metadata": {},
   "outputs": [
    {
     "name": "stdout",
     "output_type": "stream",
     "text": [
      "[0.0979021  0.2007992  0.18281718 0.1998002  0.21778222 0.1008991 ] [2 3 4 5 6 7]\n",
      "[3.35251641 2.31617457 2.45152642 2.32337007 2.19904193 3.30901478]\n"
     ]
    },
    {
     "name": "stderr",
     "output_type": "stream",
     "text": [
      "/home/wenzexu/docs/gk/docs/信息论/simpleinfotheory.py:10: RuntimeWarning: divide by zero encountered in log2\n",
      "  return -np.log2(p)\n"
     ]
    },
    {
     "data": {
      "text/plain": [
       "(0       1\n",
       " 1       3\n",
       " 2       2\n",
       " 3       2\n",
       " 4       3\n",
       "        ..\n",
       " 996     5\n",
       " 997     4\n",
       " 998     2\n",
       " 999     5\n",
       " 1000    3\n",
       " Name: V5, Length: 1001, dtype: int64,\n",
       " 0       2\n",
       " 1       4\n",
       " 2       3\n",
       " 3       4\n",
       " 4       5\n",
       "        ..\n",
       " 996     7\n",
       " 997     5\n",
       " 998     3\n",
       " 999     7\n",
       " 1000    4\n",
       " Name: V2, Length: 1001, dtype: int64)"
      ]
     },
     "execution_count": 14,
     "metadata": {},
     "output_type": "execute_result"
    }
   ],
   "source": [
    "# 6.d\n",
    "# First calculate the information content of V5=1\n",
    "total_num = data.shape[0]\n",
    "data_v5 = data['V5']\n",
    "data_v5_np = data_v5.to_numpy()\n",
    "count_v5_1 = 0\n",
    "for row in data_v5_np:\n",
    "    if row == 1:\n",
    "        count_v5_1 += 1\n",
    "h_v5_1 = infocontent(count_v5_1/total_num)\n",
    "# Then calculate the information content of each value in V2\n",
    "data_v2 = data['V2']\n",
    "data_v2_np = data_v2.to_numpy()\n",
    "symbols_v2 = np.unique(data_v2_np)\n",
    "counts_v2 = []\n",
    "for symbol in symbols_v2:\n",
    "    count = 0\n",
    "    for row in data_v2_np:\n",
    "        if row == symbol:\n",
    "            count += 1\n",
    "    counts_v2.append(count)\n",
    "counts_v2 = np.array(counts_v2)\n",
    "probabilities_v2 = counts_v2 / total_num\n",
    "print(probabilities_v2, symbols_v2)\n",
    "h_v2 = infocontent(probabilities_v2)\n",
    "print(h_v2)\n",
    "# Calculate the joint information content of V2=x&V5=1\n",
    "data_v5_np_cv = np.reshape(data_v5_np, (total_num, 1))\n",
    "data_v2_np_cv = np.reshape(data_v2_np_cv, (total_num, 1))\n",
    "data_v25_np = np.concatenate((data_v2_np_cv, data_v5_np_cv), axis=1)\n",
    "counts_v25 = []\n",
    "for symbol in symbols_v2:\n",
    "    count = 0\n",
    "    for row in data_v25_np:\n",
    "        if (row == [symbol, 1]).all():\n",
    "            count += 1\n",
    "    counts_v25.append(count)\n",
    "counts_v25 = np.array(counts_v25)\n",
    "probabilities_v25 = counts_v25 / total_num\n",
    "h25 = infocontent(probabilities_v25)\n",
    "# Lastly calculate the pointwise mutial information\n",
    "h_v5 = np.array([h_v5_1] * h_v2.shape[0])\n",
    "i25 = h_v2 + h_v5 - h25\n",
    "i25\n",
    "# log里面不能是0\n",
    "data_v5, data_v2"
   ]
  },
  {
   "cell_type": "code",
   "execution_count": 7,
   "metadata": {},
   "outputs": [],
   "source": [
    "# 6.e\n",
    "# $I(X;Y)=H(X)-H(X|Y)$. Just like what we taught in class, $0\\leq H(X|Y)\\leq H(X)$, so we have $H(X)-H(X|Y)\\leq 0$, which means $I(X;Y)\\leq 0$. Mutual information is the expceted value of the pointwise mutual information. $i(x;y)<0$ meas that the occurrence of $y$ decreases the probability of $x$ occurring, but some other $i(x;y)>0$ can offset this effect, so we have the expected value greater than or equal to $0$."
   ]
  },
  {
   "cell_type": "code",
   "execution_count": 8,
   "metadata": {},
   "outputs": [
    {
     "data": {
      "text/plain": [
       "np.float64(1.0195487688698357)"
      ]
     },
     "execution_count": 8,
     "metadata": {},
     "output_type": "execute_result"
    }
   ],
   "source": [
    "# 6.f.i\n",
    "total_num = data.shape[0]\n",
    "# First get the data of V1\n",
    "data_v1_n = data['V1'][0:total_num-1]\n",
    "data_v1_n_np = data_v1_n.to_numpy()\n",
    "# Then get the data of V4 (one sample ahead)\n",
    "data_v4_np1 = data['V4'][1:total_num]\n",
    "data_v4_np1_np = data_v4_np1.to_numpy()\n",
    "# Calculate the mutual information between two data sets\n",
    "result = mutualinformationempirical(data_v1_n_np, data_v4_np1_np)\n",
    "result"
   ]
  },
  {
   "cell_type": "code",
   "execution_count": 9,
   "metadata": {},
   "outputs": [
    {
     "data": {
      "text/plain": [
       "np.float64(0.20861439103323853)"
      ]
     },
     "execution_count": 9,
     "metadata": {},
     "output_type": "execute_result"
    }
   ],
   "source": [
    "# 6.f.ii\n",
    "total_num = data.shape[0]\n",
    "# First get the data of V1\n",
    "data_v1_n = data['V1'][0:total_num-2]\n",
    "data_v1_n_np = data_v1_n.to_numpy()\n",
    "# Then get the data of V4 (two samples ahead)\n",
    "data_v4_np2 = data['V4'][2:total_num]\n",
    "data_v4_np2_np = data_v4_np2.to_numpy()\n",
    "# Then get the data of C4 (one sample ahead)\n",
    "data_v4_np1 = data['V4'][1:total_num-1]\n",
    "data_v4_np1_np = data_v4_np1.to_numpy()\n",
    "# Calculate the conditional mutual information between two data sets conditioned on data_v4_np1_np\n",
    "result = conditionalmutualinformationempirical(data_v1_n_np, data_v4_np2_np, data_v4_np1_np)\n",
    "result"
   ]
  },
  {
   "cell_type": "code",
   "execution_count": 10,
   "metadata": {},
   "outputs": [],
   "source": [
    "# 6.g\n"
   ]
  }
 ],
 "metadata": {
  "kernelspec": {
   "display_name": "test",
   "language": "python",
   "name": "python3"
  },
  "language_info": {
   "codemirror_mode": {
    "name": "ipython",
    "version": 3
   },
   "file_extension": ".py",
   "mimetype": "text/x-python",
   "name": "python",
   "nbconvert_exporter": "python",
   "pygments_lexer": "ipython3",
   "version": "3.12.5"
  }
 },
 "nbformat": 4,
 "nbformat_minor": 2
}
